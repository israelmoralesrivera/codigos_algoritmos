{
 "cells": [
  {
   "cell_type": "code",
   "execution_count": 5,
   "metadata": {},
   "outputs": [
    {
     "data": {
      "image/png": "[encoded data removed]",
      "text/plain": [
       "<matplotlib.figure.Figure at 0x7fec640ab518>"
      ]
     },
     "metadata": {},
     "output_type": "display_data"
    },
    {
     "name": "stdout",
     "output_type": "stream",
     "text": [
      "n: 16\n",
      "Ejecuciones: 10000000\n",
      "Tiempo ejecucion: 9.89 min.\n",
      "Promedio Experimental: 83.6635861\n",
      "Promedio Teorico: 64.0\n",
      "Diferencia promedio: 19.663586100000003\n",
      "Desviacion estandar: 7.0924674985646785\n",
      "Probabilidad de tener 1.5 del tiempo teorico:  0.871496\n",
      "minimo: 67\n",
      "maximo: 142\n"
     ]
    }
   ],
   "source": [
    "import random\n",
    "import statistics\n",
    "import matplotlib.pyplot as plt\n",
    "import math\n",
    "import time\n",
    "\n",
    "\n",
    "def randomquicksort(alist,times):\n",
    "   comp = [0]\n",
    "   randomquicksorthelper(alist,0,len(alist)-1,comp)\n",
    "   times.append(comp[0])\n",
    "\n",
    "def randomquicksorthelper(alist, first, last, comp):\n",
    "    if first < last:\n",
    "        r = randompartition(alist, first, last)\n",
    "        splitpoint = r[0]\n",
    "        tmp = comp.pop()\n",
    "        comp.append(tmp + r[1])\n",
    "\n",
    "        randomquicksorthelper(alist, first, splitpoint - 1, comp)\n",
    "        randomquicksorthelper(alist, splitpoint + 1, last, comp)\n",
    "\n",
    "\n",
    "def randompartition(alist, first, last):\n",
    "    indxpiv = random.randint(first, last)\n",
    "    temp = alist[indxpiv]\n",
    "    alist[indxpiv] = alist[first]\n",
    "    alist[first] = temp\n",
    "\n",
    "    pivotvalue = alist[first]\n",
    "    compspart = 0\n",
    "\n",
    "    leftmark = first + 1\n",
    "    rightmark = last\n",
    "\n",
    "    done = False\n",
    "    while not done:\n",
    "\n",
    "        while leftmark <= rightmark and alist[leftmark] <= pivotvalue:\n",
    "            leftmark = leftmark + 1\n",
    "            compspart = compspart + 1\n",
    "        compspart = compspart + 1\n",
    "\n",
    "        while alist[rightmark] >= pivotvalue and rightmark >= leftmark:\n",
    "            rightmark = rightmark - 1\n",
    "            compspart = compspart + 1\n",
    "        compspart = compspart + 1\n",
    "\n",
    "        if rightmark < leftmark:\n",
    "            done = True\n",
    "        else:\n",
    "            temp = alist[leftmark]\n",
    "            alist[leftmark] = alist[rightmark]\n",
    "            alist[rightmark] = temp\n",
    "\n",
    "    temp = alist[first]\n",
    "    alist[first] = alist[rightmark]\n",
    "    alist[rightmark] = temp\n",
    "\n",
    "    return rightmark, compspart\n",
    "\n",
    "\n",
    "def randomquicksorttimedistrib(s, r):\n",
    "    # Create an array of 1 .. n\n",
    "    n = s\n",
    "    runs = r\n",
    "    x = []\n",
    "    for i in range(1, n + 1):\n",
    "        x.append(n + 1 - i)\n",
    "\n",
    "    # Run quicksort for each permutation\n",
    "    starting_point = time.time()\n",
    "    tlist = []\n",
    "    for p in range(1, runs + 1):\n",
    "        y = list(x)\n",
    "        randomquicksort(y, tlist)\n",
    "    elapsed_time = time.time() - starting_point\n",
    "\n",
    "    plt.hist(tlist)\n",
    "    plt.title(\"Comparaciones de Quicksort\")\n",
    "    plt.xlabel(\"Comparaciones\")\n",
    "    plt.ylabel(\"Frecuencias\")\n",
    "    plt.show()\n",
    "\n",
    "    print(\"n:\", n)\n",
    "    print(\"Ejecuciones:\", runs)\n",
    "    print(\"Tiempo ejecucion:\",\"{0:.2f}\".format(elapsed_time/60)+\" min.\")\n",
    "    print(\"Promedio Experimental:\", statistics.mean(tlist))\n",
    "    print(\"Promedio Teorico:\", n*math.log2(n))\n",
    "    print(\"Diferencia promedio:\", statistics.mean(tlist)-n*math.log2(n))\n",
    "    print(\"Desviacion estandar:\", statistics.stdev(tlist))\n",
    "    print(\"Probabilidad de tener 1.5 del tiempo teorico: \",\"{0:.6f}\".format(statistics.mean(tlist)/(n*math.log2(n)*1.5)))\n",
    "    print(\"minimo:\", min(tlist))\n",
    "    print(\"maximo:\", max(tlist))\n",
    "\n",
    "randomquicksorttimedistrib(16,10000000)"
   ]
  },
  {
   "cell_type": "code",
   "execution_count": null,
   "metadata": {},
   "outputs": [],
   "source": [
    "Numero de pruebas  Tiempo ejecucion \n",
    "10000000           9.89 minutos\n",
    "33336706.7411      300 minutos = 5 horas"
   ]
  }
 ],
 "metadata": {
  "kernelspec": {
   "display_name": "Python 3",
   "language": "python",
   "name": "python3"
  },
  "language_info": {
   "codemirror_mode": {
    "name": "ipython",
    "version": 3
   },
   "file_extension": ".py",
   "mimetype": "text/x-python",
   "name": "python",
   "nbconvert_exporter": "python",
   "pygments_lexer": "ipython3",
   "version": "3.6.5"
  }
 },
 "nbformat": 4,
 "nbformat_minor": 2
}
